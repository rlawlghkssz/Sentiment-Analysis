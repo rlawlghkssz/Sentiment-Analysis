{
 "cells": [
  {
   "cell_type": "code",
   "execution_count": 47,
   "id": "d5136ec5",
   "metadata": {},
   "outputs": [],
   "source": [
    "import pandas as p"
   ]
  },
  {
   "cell_type": "code",
   "execution_count": 48,
   "id": "dde56135",
   "metadata": {},
   "outputs": [],
   "source": [
    "tree = p.read_excel('tree_te.xlsx')\n",
    "gru = p.read_excel('gru_te.xlsx')\n",
    "lstm = p.read_excel('lstm_te.xlsx')\n",
    "bert = p.read_excel('kcbert_te.xlsx')"
   ]
  },
  {
   "cell_type": "code",
   "execution_count": 50,
   "id": "2a7a52af",
   "metadata": {},
   "outputs": [],
   "source": [
    "bucket = [tree[\"comment\"], tree[\"y_pred\"], gru[\"predict_label_gru\"], \n",
    "          lstm[\"predict_label_lstm\"], bert[\"kcbert_label\"]]"
   ]
  },
  {
   "cell_type": "code",
   "execution_count": 51,
   "id": "80bc50a0",
   "metadata": {},
   "outputs": [],
   "source": [
    "bucket = p.DataFrame({'comment': tree['comment'], 'tree': tree['y_pred'], 'gru': gru['predict_label_gru'],\n",
    "                     'lstm': lstm['predict_label_lstm'], 'bert': bert['kcbert_label'], 'real': bert['real_label']})\n"
   ]
  },
  {
   "cell_type": "code",
   "execution_count": 52,
   "id": "02d1755e",
   "metadata": {},
   "outputs": [
    {
     "data": {
      "text/html": [
       "<div>\n",
       "<style scoped>\n",
       "    .dataframe tbody tr th:only-of-type {\n",
       "        vertical-align: middle;\n",
       "    }\n",
       "\n",
       "    .dataframe tbody tr th {\n",
       "        vertical-align: top;\n",
       "    }\n",
       "\n",
       "    .dataframe thead th {\n",
       "        text-align: right;\n",
       "    }\n",
       "</style>\n",
       "<table border=\"1\" class=\"dataframe\">\n",
       "  <thead>\n",
       "    <tr style=\"text-align: right;\">\n",
       "      <th></th>\n",
       "      <th>comment</th>\n",
       "      <th>tree</th>\n",
       "      <th>gru</th>\n",
       "      <th>lstm</th>\n",
       "      <th>bert</th>\n",
       "      <th>real</th>\n",
       "    </tr>\n",
       "  </thead>\n",
       "  <tbody>\n",
       "    <tr>\n",
       "      <th>0</th>\n",
       "      <td>저딴것들이 우리세금 냠냠하네</td>\n",
       "      <td>0</td>\n",
       "      <td>0</td>\n",
       "      <td>1</td>\n",
       "      <td>0</td>\n",
       "      <td>1</td>\n",
       "    </tr>\n",
       "    <tr>\n",
       "      <th>1</th>\n",
       "      <td>요즘 대학교 에타보면 저런 애들이 너무많아서 겁이남 학벌주의에 심취하는건 새내기때에...</td>\n",
       "      <td>1</td>\n",
       "      <td>0</td>\n",
       "      <td>0</td>\n",
       "      <td>0</td>\n",
       "      <td>0</td>\n",
       "    </tr>\n",
       "    <tr>\n",
       "      <th>2</th>\n",
       "      <td>자기 딸이 회사에서 밥 짓는다고 그러면 화낼 인간들이 직원에게는 저러고 있네 어휴 ...</td>\n",
       "      <td>0</td>\n",
       "      <td>0</td>\n",
       "      <td>0</td>\n",
       "      <td>0</td>\n",
       "      <td>0</td>\n",
       "    </tr>\n",
       "    <tr>\n",
       "      <th>3</th>\n",
       "      <td>테이저건 쏘고 묶어놔야지 승무원들 처벌해라 뭐하는거야</td>\n",
       "      <td>0</td>\n",
       "      <td>0</td>\n",
       "      <td>0</td>\n",
       "      <td>0</td>\n",
       "      <td>0</td>\n",
       "    </tr>\n",
       "    <tr>\n",
       "      <th>4</th>\n",
       "      <td>네 사정이야 어찌되었든 과속하셨구요 공권력 사칭으로 간주 벌금 이빠이 되겠습니다 서...</td>\n",
       "      <td>1</td>\n",
       "      <td>1</td>\n",
       "      <td>1</td>\n",
       "      <td>0</td>\n",
       "      <td>1</td>\n",
       "    </tr>\n",
       "    <tr>\n",
       "      <th>...</th>\n",
       "      <td>...</td>\n",
       "      <td>...</td>\n",
       "      <td>...</td>\n",
       "      <td>...</td>\n",
       "      <td>...</td>\n",
       "      <td>...</td>\n",
       "    </tr>\n",
       "    <tr>\n",
       "      <th>39995</th>\n",
       "      <td>저런데 한국이 중국을 도와줘야 되는가 절대 않되는거지 인권이 심각하다 북한이랑 다를...</td>\n",
       "      <td>0</td>\n",
       "      <td>0</td>\n",
       "      <td>0</td>\n",
       "      <td>0</td>\n",
       "      <td>0</td>\n",
       "    </tr>\n",
       "    <tr>\n",
       "      <th>39996</th>\n",
       "      <td>이런분들은 영웅이십니다 국민영웅들입니다 이런분들은 표창을 줘야합니다 그런분들 앞으로...</td>\n",
       "      <td>1</td>\n",
       "      <td>1</td>\n",
       "      <td>1</td>\n",
       "      <td>1</td>\n",
       "      <td>1</td>\n",
       "    </tr>\n",
       "    <tr>\n",
       "      <th>39997</th>\n",
       "      <td>정신병있네 똑똑한척</td>\n",
       "      <td>1</td>\n",
       "      <td>0</td>\n",
       "      <td>0</td>\n",
       "      <td>0</td>\n",
       "      <td>0</td>\n",
       "    </tr>\n",
       "    <tr>\n",
       "      <th>39998</th>\n",
       "      <td>훌륭한 젊은이 아직 대한민국은 그대와같은 젊은이가 있는한 최고가 될수있다 젊은 영웅...</td>\n",
       "      <td>1</td>\n",
       "      <td>1</td>\n",
       "      <td>1</td>\n",
       "      <td>1</td>\n",
       "      <td>1</td>\n",
       "    </tr>\n",
       "    <tr>\n",
       "      <th>39999</th>\n",
       "      <td>아들 잘 키웠다</td>\n",
       "      <td>1</td>\n",
       "      <td>1</td>\n",
       "      <td>1</td>\n",
       "      <td>1</td>\n",
       "      <td>1</td>\n",
       "    </tr>\n",
       "  </tbody>\n",
       "</table>\n",
       "<p>40000 rows × 6 columns</p>\n",
       "</div>"
      ],
      "text/plain": [
       "                                                 comment  tree  gru  lstm  \\\n",
       "0                                        저딴것들이 우리세금 냠냠하네     0    0     1   \n",
       "1      요즘 대학교 에타보면 저런 애들이 너무많아서 겁이남 학벌주의에 심취하는건 새내기때에...     1    0     0   \n",
       "2      자기 딸이 회사에서 밥 짓는다고 그러면 화낼 인간들이 직원에게는 저러고 있네 어휴 ...     0    0     0   \n",
       "3                          테이저건 쏘고 묶어놔야지 승무원들 처벌해라 뭐하는거야     0    0     0   \n",
       "4      네 사정이야 어찌되었든 과속하셨구요 공권력 사칭으로 간주 벌금 이빠이 되겠습니다 서...     1    1     1   \n",
       "...                                                  ...   ...  ...   ...   \n",
       "39995  저런데 한국이 중국을 도와줘야 되는가 절대 않되는거지 인권이 심각하다 북한이랑 다를...     0    0     0   \n",
       "39996  이런분들은 영웅이십니다 국민영웅들입니다 이런분들은 표창을 줘야합니다 그런분들 앞으로...     1    1     1   \n",
       "39997                                         정신병있네 똑똑한척     1    0     0   \n",
       "39998  훌륭한 젊은이 아직 대한민국은 그대와같은 젊은이가 있는한 최고가 될수있다 젊은 영웅...     1    1     1   \n",
       "39999                                           아들 잘 키웠다     1    1     1   \n",
       "\n",
       "       bert  real  \n",
       "0         0     1  \n",
       "1         0     0  \n",
       "2         0     0  \n",
       "3         0     0  \n",
       "4         0     1  \n",
       "...     ...   ...  \n",
       "39995     0     0  \n",
       "39996     1     1  \n",
       "39997     0     0  \n",
       "39998     1     1  \n",
       "39999     1     1  \n",
       "\n",
       "[40000 rows x 6 columns]"
      ]
     },
     "execution_count": 52,
     "metadata": {},
     "output_type": "execute_result"
    }
   ],
   "source": [
    "bucket"
   ]
  },
  {
   "cell_type": "code",
   "execution_count": 54,
   "id": "1ee5ec19",
   "metadata": {},
   "outputs": [],
   "source": [
    "# 각 모델의 정확도는 아래와 같음(test data 기준)\n",
    "# tree: 0.762775, gru: 0.8676, lstm: 0.8676, bert: 0.846725\n",
    "\n",
    "# 각 모델이 vointg에서 가지는 지분을 세팅\n",
    "tree_power = 0.762\n",
    "gru_power = 0.867\n",
    "lstm_power = 0.867\n",
    "bert_power = 0.846\n",
    "\n",
    "# 투표 결과를 담아둘 배열\n",
    "outcome = []\n",
    "\n",
    "# 지지율 저장할 변수 세팅\n",
    "pos = 0\n",
    "neg = 0\n",
    "winner = 0\n",
    "\n",
    "for i in range(0, len(bucket['comment'])):\n",
    "    # tree 투표 진행\n",
    "    if bucket[\"tree\"][i] == 1: # tree가 1을 지지할 경우\n",
    "        pos += tree_power # pos는 tree의 지분만큼 지지 얻음\n",
    "    else:\n",
    "        neg += tree_power # 그렇지 않다면, neg는 tree의 지분만큼 지지 얻음\n",
    "    # gru 투표 진행\n",
    "    if bucket[\"gru\"][i] == 1:\n",
    "        pos += gru_power\n",
    "    else:\n",
    "        neg += gru_power\n",
    "    # lstm 투표 진행\n",
    "    if bucket[\"lstm\"][i] == 1: \n",
    "        pos += lstm_power\n",
    "    else:\n",
    "        neg += lstm_power \n",
    "    # bert 투표 진행\n",
    "    if bucket[\"bert\"][i] == 1:\n",
    "        pos += bert_power \n",
    "    else:\n",
    "        neg += bert_power \n",
    "        \n",
    "    # 개표\n",
    "    if pos > neg:\n",
    "        winner = 1 # pos의 지지율이 더 높다면 real label은 '1'로 판정\n",
    "    else:\n",
    "        winner = 0 # 그렇지 않다면 '0'으로 판정\n",
    "        \n",
    "    # 개표 결과 저장\n",
    "    outcome.append(winner)\n",
    "    \n",
    "    # 지지율 초기화\n",
    "    pos = 0\n",
    "    neg = 0\n",
    "        \n",
    "    \n",
    "bucket.insert(6, 'winner', outcome)\n",
    "    "
   ]
  },
  {
   "cell_type": "code",
   "execution_count": 55,
   "id": "d7749788",
   "metadata": {},
   "outputs": [],
   "source": [
    "# 선거 결과 포함하여 엑셀 파일로 저장\n",
    "bucket.to_excel(excel_writer = '선거결과(te).xlsx')"
   ]
  },
  {
   "cell_type": "code",
   "execution_count": 62,
   "id": "75e9f42e",
   "metadata": {},
   "outputs": [],
   "source": [
    "# 앙상블로 증가된 정확도 살펴보기\n",
    "len(bucket['comment'])\n",
    "\n",
    "# real label과 winner가 일치하는 경우의 수\n",
    "true_match = 0\n",
    "\n",
    "for i in range(0, len(bucket['comment'])):\n",
    "    if bucket['real'][i] == bucket['winner'][i]:\n",
    "        true_match += 1\n"
   ]
  },
  {
   "cell_type": "code",
   "execution_count": 64,
   "id": "3c0922f9",
   "metadata": {},
   "outputs": [
    {
     "data": {
      "text/plain": [
       "34798"
      ]
     },
     "execution_count": 64,
     "metadata": {},
     "output_type": "execute_result"
    }
   ],
   "source": [
    "true_match"
   ]
  },
  {
   "cell_type": "code",
   "execution_count": 66,
   "id": "17bb3886",
   "metadata": {},
   "outputs": [
    {
     "data": {
      "text/plain": [
       "0.86995"
      ]
     },
     "execution_count": 66,
     "metadata": {},
     "output_type": "execute_result"
    }
   ],
   "source": [
    "true_match/len(bucket['comment'])"
   ]
  },
  {
   "cell_type": "code",
   "execution_count": null,
   "id": "4b91499e",
   "metadata": {},
   "outputs": [],
   "source": []
  }
 ],
 "metadata": {
  "kernelspec": {
   "display_name": "Python 3 (ipykernel)",
   "language": "python",
   "name": "python3"
  },
  "language_info": {
   "codemirror_mode": {
    "name": "ipython",
    "version": 3
   },
   "file_extension": ".py",
   "mimetype": "text/x-python",
   "name": "python",
   "nbconvert_exporter": "python",
   "pygments_lexer": "ipython3",
   "version": "3.9.13"
  }
 },
 "nbformat": 4,
 "nbformat_minor": 5
}
